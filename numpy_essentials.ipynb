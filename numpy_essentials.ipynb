{
  "nbformat": 4,
  "nbformat_minor": 0,
  "metadata": {
    "colab": {
      "provenance": [],
      "authorship_tag": "ABX9TyMIY8pYasiH7swiLCExXJ8t",
      "include_colab_link": true
    },
    "kernelspec": {
      "name": "python3",
      "display_name": "Python 3"
    },
    "language_info": {
      "name": "python"
    }
  },
  "cells": [
    {
      "cell_type": "markdown",
      "metadata": {
        "id": "view-in-github",
        "colab_type": "text"
      },
      "source": [
        "<a href=\"https://colab.research.google.com/github/sangjunlim-dev/ml-practicals/blob/main/numpy_essentials.ipynb\" target=\"_parent\"><img src=\"https://colab.research.google.com/assets/colab-badge.svg\" alt=\"Open In Colab\"/></a>"
      ]
    },
    {
      "cell_type": "code",
      "execution_count": 15,
      "metadata": {
        "id": "Uc3J-uHneBCD"
      },
      "outputs": [],
      "source": [
        "import numpy as np"
      ]
    },
    {
      "cell_type": "markdown",
      "source": [
        "### Creating Arrays"
      ],
      "metadata": {
        "id": "De407WR4eMIm"
      }
    },
    {
      "cell_type": "code",
      "source": [
        "arr0 = np.array([1, 2, 3])\n",
        "\n",
        "arr1 = np.zeros(3)\n",
        "\n",
        "arr2 = np.ones(3)\n",
        "\n",
        "# Initial content is random (depends on state of the memeory)\n",
        "arr3 = np.empty(3)\n",
        "\n",
        "arr4 = np.arange(4)\n",
        "\n",
        "# Array with values spaced linearly\n",
        "arr5 = np.linspace(0, 10, num=5)"
      ],
      "metadata": {
        "collapsed": true,
        "id": "Mb6Eyx0keDN6"
      },
      "execution_count": null,
      "outputs": []
    },
    {
      "cell_type": "markdown",
      "source": [
        "### Arthmetic and Sorting"
      ],
      "metadata": {
        "id": "dtb_NqlwhgYB"
      }
    },
    {
      "cell_type": "code",
      "source": [
        "arr6 = np.array([2, 1, 4, 3, 7, 5, 6])\n",
        "\n",
        "# Ascending Sort\n",
        "np.sort(arr6)\n",
        "\n",
        "# Descending sort\n",
        "np.sort(arr6)[::-1]"
      ],
      "metadata": {
        "colab": {
          "base_uri": "https://localhost:8080/"
        },
        "id": "4h4CHhq9hlus",
        "outputId": "f51a2d4d-e2b8-4fd2-f513-c524c646a056"
      },
      "execution_count": null,
      "outputs": [
        {
          "output_type": "execute_result",
          "data": {
            "text/plain": [
              "array([7, 6, 5, 4, 3, 2, 1])"
            ]
          },
          "metadata": {},
          "execution_count": 21
        }
      ]
    },
    {
      "cell_type": "markdown",
      "source": [],
      "metadata": {
        "id": "fdJZLFZcq-pa"
      }
    },
    {
      "cell_type": "code",
      "source": [
        "arr7 = np.random.randint(0, 10, 12).reshape([3, 4])\n",
        "arr7"
      ],
      "metadata": {
        "colab": {
          "base_uri": "https://localhost:8080/"
        },
        "id": "LWj9IVgEm062",
        "outputId": "dabb85aa-9453-4dba-c757-c2c58d21eabb"
      },
      "execution_count": null,
      "outputs": [
        {
          "output_type": "execute_result",
          "data": {
            "text/plain": [
              "array([[5, 5, 1, 7],\n",
              "       [6, 3, 8, 6],\n",
              "       [5, 6, 0, 2]])"
            ]
          },
          "metadata": {},
          "execution_count": 3
        }
      ]
    },
    {
      "cell_type": "code",
      "source": [
        "# Sort by column\n",
        "np.sort(arr7)[:, ::-1]"
      ],
      "metadata": {
        "colab": {
          "base_uri": "https://localhost:8080/"
        },
        "id": "qBilUQnzm43C",
        "outputId": "6fc8f500-8a49-4613-fc6a-6ded28415b5e"
      },
      "execution_count": null,
      "outputs": [
        {
          "output_type": "execute_result",
          "data": {
            "text/plain": [
              "array([[7, 5, 5, 1],\n",
              "       [8, 6, 6, 3],\n",
              "       [6, 5, 2, 0]])"
            ]
          },
          "metadata": {},
          "execution_count": 6
        }
      ]
    },
    {
      "cell_type": "code",
      "source": [
        "# Sort by row\n",
        "np.sort(arr7, axis=0)"
      ],
      "metadata": {
        "colab": {
          "base_uri": "https://localhost:8080/"
        },
        "id": "TV2gnkdbgsrJ",
        "outputId": "6e0a65af-6812-445b-eaaf-2cbcee44df35"
      },
      "execution_count": null,
      "outputs": [
        {
          "output_type": "execute_result",
          "data": {
            "text/plain": [
              "array([[5, 3, 0, 2],\n",
              "       [5, 5, 1, 6],\n",
              "       [6, 6, 8, 7]])"
            ]
          },
          "metadata": {},
          "execution_count": 7
        }
      ]
    },
    {
      "cell_type": "code",
      "source": [
        "# Return index after sorted\n",
        "np.argsort(arr7)"
      ],
      "metadata": {
        "colab": {
          "base_uri": "https://localhost:8080/"
        },
        "id": "b3RxFvFmhIEk",
        "outputId": "e160eb4d-9e35-452a-e686-1b40976fc250"
      },
      "execution_count": null,
      "outputs": [
        {
          "output_type": "execute_result",
          "data": {
            "text/plain": [
              "array([[2, 0, 1, 3],\n",
              "       [1, 0, 3, 2],\n",
              "       [2, 3, 0, 1]])"
            ]
          },
          "metadata": {},
          "execution_count": 8
        }
      ]
    },
    {
      "cell_type": "code",
      "source": [
        "a = np.array([[1, 2],\n",
        "               [3, 4]])\n",
        "b = np.array([[5, 6]])\n",
        "\n",
        "np.concatenate((a,b))"
      ],
      "metadata": {
        "colab": {
          "base_uri": "https://localhost:8080/"
        },
        "id": "XzPvZxXLhjez",
        "outputId": "2d216fe8-04c4-4707-8c3c-20c5eb9e5b3e"
      },
      "execution_count": null,
      "outputs": [
        {
          "output_type": "execute_result",
          "data": {
            "text/plain": [
              "array([[1, 2],\n",
              "       [3, 4],\n",
              "       [5, 6]])"
            ]
          },
          "metadata": {},
          "execution_count": 22
        }
      ]
    },
    {
      "cell_type": "markdown",
      "source": [
        "### Dimension, Size and Exapnd"
      ],
      "metadata": {
        "id": "gx-HH85YazK3"
      }
    },
    {
      "cell_type": "code",
      "source": [
        "a8 = np.arange(6)\n",
        "a8"
      ],
      "metadata": {
        "colab": {
          "base_uri": "https://localhost:8080/"
        },
        "id": "uFWDP__2IiGj",
        "outputId": "c6f48cd3-253c-48be-991c-2aab3e439386"
      },
      "execution_count": 3,
      "outputs": [
        {
          "output_type": "execute_result",
          "data": {
            "text/plain": [
              "array([0, 1, 2, 3, 4, 5])"
            ]
          },
          "metadata": {},
          "execution_count": 3
        }
      ]
    },
    {
      "cell_type": "code",
      "source": [
        "a8.ndim, a8.size, a8.shape"
      ],
      "metadata": {
        "colab": {
          "base_uri": "https://localhost:8080/"
        },
        "id": "SH_ECxQTbIcf",
        "outputId": "8fd29014-02d9-49c8-d0e3-cf804ddb05cf"
      },
      "execution_count": 8,
      "outputs": [
        {
          "output_type": "execute_result",
          "data": {
            "text/plain": [
              "(1, 6, (6,))"
            ]
          },
          "metadata": {},
          "execution_count": 8
        }
      ]
    },
    {
      "cell_type": "code",
      "source": [
        "a8.reshape(3, 2)"
      ],
      "metadata": {
        "colab": {
          "base_uri": "https://localhost:8080/"
        },
        "id": "g9NYgJ4gbMuv",
        "outputId": "78d71991-dfa9-44cb-e441-0131e08e86f5"
      },
      "execution_count": 9,
      "outputs": [
        {
          "output_type": "execute_result",
          "data": {
            "text/plain": [
              "array([[0, 1],\n",
              "       [2, 3],\n",
              "       [4, 5]])"
            ]
          },
          "metadata": {},
          "execution_count": 9
        }
      ]
    },
    {
      "cell_type": "markdown",
      "source": [
        "####Use `np.newaxis` and `np.expand_dims` to increase the dimension."
      ],
      "metadata": {
        "id": "KObBH8hnbqlv"
      }
    },
    {
      "cell_type": "code",
      "source": [
        "# Convert 1D array to a vector\n",
        "a9 = a8[np.newaxis, :]\n",
        "\n",
        "a8.shape, a9.shape"
      ],
      "metadata": {
        "colab": {
          "base_uri": "https://localhost:8080/"
        },
        "id": "m0iFkHKzbNh_",
        "outputId": "faee0de1-d520-4c75-bc5f-d269ec3d593c"
      },
      "execution_count": 13,
      "outputs": [
        {
          "output_type": "execute_result",
          "data": {
            "text/plain": [
              "((6,), (1, 6))"
            ]
          },
          "metadata": {},
          "execution_count": 13
        }
      ]
    },
    {
      "cell_type": "code",
      "source": [
        "# Add an axis at index position 0\n",
        "a10 = np.expand_dims(a8, axis=0)\n",
        "\n",
        "a10.shape"
      ],
      "metadata": {
        "colab": {
          "base_uri": "https://localhost:8080/"
        },
        "id": "0o2iix6CfeL4",
        "outputId": "dfff2c13-da80-432c-94ef-c27faeef6383"
      },
      "execution_count": 14,
      "outputs": [
        {
          "output_type": "execute_result",
          "data": {
            "text/plain": [
              "(1, 6)"
            ]
          },
          "metadata": {},
          "execution_count": 14
        }
      ]
    },
    {
      "cell_type": "markdown",
      "source": [
        "### Indexing and Slicing"
      ],
      "metadata": {
        "id": "Gs2kzY1Lg_BP"
      }
    },
    {
      "cell_type": "code",
      "source": [
        "a11 = np.arange(12)\n",
        "a11 = a11.reshape(3, 4)\n",
        "a11"
      ],
      "metadata": {
        "colab": {
          "base_uri": "https://localhost:8080/"
        },
        "id": "JE0O72Npglsv",
        "outputId": "270dfa01-a653-4ca9-9a79-ba9bec49b2c4"
      },
      "execution_count": 21,
      "outputs": [
        {
          "output_type": "execute_result",
          "data": {
            "text/plain": [
              "array([[ 0,  1,  2,  3],\n",
              "       [ 4,  5,  6,  7],\n",
              "       [ 8,  9, 10, 11]])"
            ]
          },
          "metadata": {},
          "execution_count": 21
        }
      ]
    },
    {
      "cell_type": "markdown",
      "source": [
        "####Use condition on array to get boolean array."
      ],
      "metadata": {
        "id": "hUbOpfLzocJF"
      }
    },
    {
      "cell_type": "code",
      "source": [
        "a11 < 5"
      ],
      "metadata": {
        "colab": {
          "base_uri": "https://localhost:8080/"
        },
        "id": "Z941wdtkoYHt",
        "outputId": "6746cad6-383f-4a7d-b29c-3be9e61c6f38"
      },
      "execution_count": 24,
      "outputs": [
        {
          "output_type": "execute_result",
          "data": {
            "text/plain": [
              "array([[ True,  True,  True,  True],\n",
              "       [ True, False, False, False],\n",
              "       [False, False, False, False]])"
            ]
          },
          "metadata": {},
          "execution_count": 24
        }
      ]
    },
    {
      "cell_type": "markdown",
      "source": [
        "####Use condition as an index to get all the values meeting the condition."
      ],
      "metadata": {
        "id": "dJ1e_QyFoqNb"
      }
    },
    {
      "cell_type": "code",
      "source": [
        "a11[a11 < 5]"
      ],
      "metadata": {
        "colab": {
          "base_uri": "https://localhost:8080/"
        },
        "id": "ToijPoR-mnIF",
        "outputId": "f39333e3-8085-4be2-edae-27a501f84d76"
      },
      "execution_count": 23,
      "outputs": [
        {
          "output_type": "execute_result",
          "data": {
            "text/plain": [
              "array([0, 1, 2, 3, 4, 5])"
            ]
          },
          "metadata": {},
          "execution_count": 23
        }
      ]
    },
    {
      "cell_type": "markdown",
      "source": [
        "#### If you apply condition within `np.nonzero` tuple of arrays will be returned.\n"
      ],
      "metadata": {
        "id": "hH5VyQR_qTQK"
      }
    },
    {
      "cell_type": "code",
      "source": [
        "#First array represent row indicies, Second array represent column indicies\n",
        "np.nonzero(a11)"
      ],
      "metadata": {
        "colab": {
          "base_uri": "https://localhost:8080/"
        },
        "id": "FeJQIdmFp1RJ",
        "outputId": "2ac4f749-fd10-4eb0-d900-919d04a0e5fe"
      },
      "execution_count": 31,
      "outputs": [
        {
          "output_type": "execute_result",
          "data": {
            "text/plain": [
              "(array([0, 0, 0, 1, 1, 1, 1, 2, 2, 2, 2]),\n",
              " array([1, 2, 3, 0, 1, 2, 3, 0, 1, 2, 3]))"
            ]
          },
          "metadata": {},
          "execution_count": 31
        }
      ]
    }
  ]
}